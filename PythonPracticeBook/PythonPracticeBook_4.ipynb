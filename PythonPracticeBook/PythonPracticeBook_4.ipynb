{
 "cells": [
  {
   "cell_type": "markdown",
   "id": "ce3357d3",
   "metadata": {},
   "source": [
    "# Object Oriented Programming"
   ]
  },
  {
   "cell_type": "markdown",
   "id": "f31c866a",
   "metadata": {},
   "source": [
    "## State"
   ]
  },
  {
   "cell_type": "code",
   "execution_count": 1,
   "id": "bff249cd",
   "metadata": {},
   "outputs": [],
   "source": [
    "balance = 0\n",
    "\n",
    "def deposit(amount):\n",
    "    global balance\n",
    "    balance += amount\n",
    "    return balance\n",
    "\n",
    "def withdraw(amount):\n",
    "    global balance\n",
    "    balance -= amount\n",
    "    return balance"
   ]
  },
  {
   "cell_type": "code",
   "execution_count": 2,
   "id": "f9f0c525",
   "metadata": {},
   "outputs": [],
   "source": [
    "def make_account():\n",
    "    return {'balance':0}\n",
    "\n",
    "def deposit(account,amount):\n",
    "    account['balance'] += amount\n",
    "    return account['balance']\n",
    "\n",
    "def withdraw (account, amount):\n",
    "    account['balance'] -= amount\n",
    "    return account['balance']"
   ]
  },
  {
   "cell_type": "code",
   "execution_count": 3,
   "id": "7948b5b9",
   "metadata": {},
   "outputs": [],
   "source": [
    "a = make_account()\n",
    "b = make_account()"
   ]
  },
  {
   "cell_type": "code",
   "execution_count": 4,
   "id": "4cb78de8",
   "metadata": {},
   "outputs": [
    {
     "data": {
      "text/plain": [
       "100"
      ]
     },
     "execution_count": 4,
     "metadata": {},
     "output_type": "execute_result"
    }
   ],
   "source": [
    "deposit(a, 100)"
   ]
  },
  {
   "cell_type": "code",
   "execution_count": 5,
   "id": "95c5cd09",
   "metadata": {},
   "outputs": [
    {
     "data": {
      "text/plain": [
       "-10"
      ]
     },
     "execution_count": 5,
     "metadata": {},
     "output_type": "execute_result"
    }
   ],
   "source": [
    "withdraw(b, 10)"
   ]
  },
  {
   "cell_type": "code",
   "execution_count": 6,
   "id": "59452130",
   "metadata": {},
   "outputs": [
    {
     "data": {
      "text/plain": [
       "90"
      ]
     },
     "execution_count": 6,
     "metadata": {},
     "output_type": "execute_result"
    }
   ],
   "source": [
    "withdraw(a, 10)"
   ]
  },
  {
   "cell_type": "markdown",
   "id": "b9775620",
   "metadata": {},
   "source": [
    "## Classes and Objects"
   ]
  },
  {
   "cell_type": "code",
   "execution_count": 7,
   "id": "80eed40d",
   "metadata": {},
   "outputs": [],
   "source": [
    "class BankAccount:\n",
    "    def __init__(self):\n",
    "        self.balance = 0\n",
    "        \n",
    "    def withdraw(self, amount):\n",
    "        self.balance -= amount\n",
    "        return self.balance\n",
    "    \n",
    "    def deposit(self, amount):\n",
    "        self.balance += amount\n",
    "        return self.balance"
   ]
  },
  {
   "cell_type": "code",
   "execution_count": 8,
   "id": "02ef8c0b",
   "metadata": {},
   "outputs": [],
   "source": [
    "a = make_account()\n",
    "b = make_account()"
   ]
  },
  {
   "cell_type": "code",
   "execution_count": 9,
   "id": "369e9fef",
   "metadata": {},
   "outputs": [
    {
     "data": {
      "text/plain": [
       "100"
      ]
     },
     "execution_count": 9,
     "metadata": {},
     "output_type": "execute_result"
    }
   ],
   "source": [
    "deposit(a, 100)"
   ]
  },
  {
   "cell_type": "code",
   "execution_count": 10,
   "id": "42bfaf66",
   "metadata": {},
   "outputs": [
    {
     "data": {
      "text/plain": [
       "-10"
      ]
     },
     "execution_count": 10,
     "metadata": {},
     "output_type": "execute_result"
    }
   ],
   "source": [
    "withdraw(b, 10)"
   ]
  },
  {
   "cell_type": "code",
   "execution_count": 11,
   "id": "877c42ee",
   "metadata": {},
   "outputs": [
    {
     "data": {
      "text/plain": [
       "90"
      ]
     },
     "execution_count": 11,
     "metadata": {},
     "output_type": "execute_result"
    }
   ],
   "source": [
    "withdraw(a, 10)"
   ]
  },
  {
   "cell_type": "markdown",
   "id": "7d49aaa0",
   "metadata": {},
   "source": [
    "## Inheritance"
   ]
  },
  {
   "cell_type": "markdown",
   "id": "8e9853bf",
   "metadata": {},
   "source": [
    "Let us try to create a little more sophisticated account type where the account holder has to maintain a pre-determined minimum balance"
   ]
  },
  {
   "cell_type": "code",
   "execution_count": 12,
   "id": "29f31f78",
   "metadata": {},
   "outputs": [],
   "source": [
    "class MinimumBalanceAccount(BankAccount):\n",
    "    def __init__(self, minimum_balance):\n",
    "        BankAccount.__init__(self)\n",
    "        self.minimum_balance = minimum_balance\n",
    "    \n",
    "    def withdraw(self, amount):\n",
    "        if self.balance - amount < self.minimum_balance:\n",
    "            print(\"Sorry, mimum balance must be maintained\")\n",
    "        else:\n",
    "            BankAccount.withdraw(self, amount)"
   ]
  },
  {
   "cell_type": "code",
   "execution_count": 13,
   "id": "80ebf916",
   "metadata": {},
   "outputs": [],
   "source": [
    "class A:\n",
    "    def f(self):\n",
    "        return self.g()\n",
    "\n",
    "    def g(self):\n",
    "        return 'A'\n",
    "\n",
    "class B(A):\n",
    "    def g(self):\n",
    "        return 'B'"
   ]
  },
  {
   "cell_type": "code",
   "execution_count": 14,
   "id": "84098379",
   "metadata": {},
   "outputs": [
    {
     "name": "stdout",
     "output_type": "stream",
     "text": [
      "A B\n",
      "A B\n"
     ]
    }
   ],
   "source": [
    "a = A()\n",
    "b = B()\n",
    "print(a.f(), b.f())\n",
    "print(a.g(), b.g())"
   ]
  },
  {
   "cell_type": "code",
   "execution_count": 15,
   "id": "d036df2b",
   "metadata": {},
   "outputs": [],
   "source": [
    "class Canvas:\n",
    "    def __init__(self, width, height):\n",
    "        self.width = width\n",
    "        self.height = height\n",
    "        self.data = [[' '] * width for i in range(height)]\n",
    "\n",
    "    def setpixel(self, row, col):\n",
    "        self.data[row][col] = '*'\n",
    "\n",
    "    def getpixel(self, row, col):\n",
    "        return self.data[row][col]\n",
    "\n",
    "    def display(self):\n",
    "        print(\"\\n\".join([\"\".join(row) for row in self.data]))\n",
    "\n",
    "class Shape:\n",
    "    def paint(self, canvas): pass\n",
    "\n",
    "class Rectangle(Shape):\n",
    "    def __init__(self, x, y, w, h):\n",
    "        self.x = x\n",
    "        self.y = y\n",
    "        self.w = w\n",
    "        self.h = h\n",
    "\n",
    "    def hline(self, x, y, w):\n",
    "        pass\n",
    "\n",
    "    def vline(self, x, y, h):\n",
    "        pass\n",
    "\n",
    "    def paint(self, canvas):\n",
    "        hline(self.x, self.y, self.w)\n",
    "        hline(self.x, self.y + self.h, self.w)\n",
    "        vline(self.x, self.y, self.h)\n",
    "        vline(self.x + self.w, self.y, self.h)\n",
    "\n",
    "class Square(Rectangle):\n",
    "    def __init__(self, x, y, size):\n",
    "        Rectangle.__init__(self, x, y, size, size)\n",
    "\n",
    "class CompoundShape(Shape):\n",
    "    def __init__(self, shapes):\n",
    "        self.shapes = shapes\n",
    "\n",
    "    def paint(self, canvas):\n",
    "        for s in self.shapes:\n",
    "            s.paint(canvas)"
   ]
  },
  {
   "cell_type": "markdown",
   "id": "31e2ca96",
   "metadata": {},
   "source": [
    "## Special Class Methods"
   ]
  },
  {
   "cell_type": "code",
   "execution_count": 16,
   "id": "7ddfc147",
   "metadata": {},
   "outputs": [
    {
     "data": {
      "text/plain": [
       "3"
      ]
     },
     "execution_count": 16,
     "metadata": {},
     "output_type": "execute_result"
    }
   ],
   "source": [
    "a,b =1,2\n",
    "a+b"
   ]
  },
  {
   "cell_type": "code",
   "execution_count": 17,
   "id": "2a8700af",
   "metadata": {},
   "outputs": [
    {
     "data": {
      "text/plain": [
       "3"
      ]
     },
     "execution_count": 17,
     "metadata": {},
     "output_type": "execute_result"
    }
   ],
   "source": [
    "a.__add__(b)"
   ]
  },
  {
   "cell_type": "code",
   "execution_count": 18,
   "id": "4429f84c",
   "metadata": {},
   "outputs": [],
   "source": [
    "class RationalNumber:\n",
    "    \"\"\"\n",
    "    Rational Numbers with support for arthmetic operations.\n",
    "\n",
    "        >>> a = RationalNumber(1, 2)\n",
    "        >>> b = RationalNumber(1, 3)\n",
    "        >>> a + b\n",
    "        5/6\n",
    "        >>> a - b\n",
    "        1/6\n",
    "        >>> a * b\n",
    "        1/6\n",
    "        >>> a/b\n",
    "        3/2\n",
    "    \"\"\"\n",
    "    def __init__(self, numerator, denominator=1):\n",
    "        self.n = numerator\n",
    "        self.d = denominator\n",
    "\n",
    "    def __add__(self, other):\n",
    "        if not isinstance(other, RationalNumber):\n",
    "            other = RationalNumber(other)\n",
    "\n",
    "        n = self.n * other.d + self.d * other.n\n",
    "        d = self.d * other.d\n",
    "        return RationalNumber(n, d)\n",
    "\n",
    "    def __sub__(self, other):\n",
    "        if not isinstance(other, RationalNumber):\n",
    "            other = RationalNumber(other)\n",
    "\n",
    "        n1, d1 = self.n, self.d\n",
    "        n2, d2 = other.n, other.d\n",
    "        return RationalNumber(n1*d2 - n2*d1, d1*d2)\n",
    "\n",
    "    def __mul__(self, other):\n",
    "        if not isinstance(other, RationalNumber):\n",
    "            other = RationalNumber(other)\n",
    "\n",
    "        n1, d1 = self.n, self.d\n",
    "        n2, d2 = other.n, other.d\n",
    "        return RationalNumber(n1*n2, d1*d2)\n",
    "\n",
    "    def __div__(self, other):\n",
    "        if not isinstance(other, RationalNumber):\n",
    "            other = RationalNumber(other)\n",
    "\n",
    "        n1, d1 = self.n, self.d\n",
    "        n2, d2 = other.n, other.d\n",
    "        return RationalNumber(n1*d2, d1*n2)\n",
    "\n",
    "    def __str__(self):\n",
    "        return \"%s/%s\" % (self.n, self.d)\n",
    "\n",
    "    __repr__ = __str__"
   ]
  },
  {
   "cell_type": "markdown",
   "id": "73717239",
   "metadata": {},
   "source": [
    "## Errors and Exceptions"
   ]
  },
  {
   "cell_type": "code",
   "execution_count": 19,
   "id": "5feedd8a",
   "metadata": {},
   "outputs": [
    {
     "name": "stdout",
     "output_type": "stream",
     "text": [
      "a\n",
      "c\n",
      "d\n"
     ]
    }
   ],
   "source": [
    "try:\n",
    "    print (\"a\")\n",
    "except:\n",
    "    print (\"b\")\n",
    "else:\n",
    "    print (\"c\")\n",
    "finally:\n",
    "    print (\"d\")"
   ]
  },
  {
   "cell_type": "code",
   "execution_count": 20,
   "id": "65f94d7d",
   "metadata": {},
   "outputs": [
    {
     "name": "stdout",
     "output_type": "stream",
     "text": [
      "a\n",
      "b\n",
      "d\n"
     ]
    }
   ],
   "source": [
    "try:\n",
    "    print(\"a\")\n",
    "    raise Exception(\"doom\")\n",
    "except:\n",
    "    print(\"b\")\n",
    "else:\n",
    "    print(\"c\")\n",
    "finally:\n",
    "    print(\"d\")"
   ]
  },
  {
   "cell_type": "code",
   "execution_count": 21,
   "id": "d052ace6",
   "metadata": {},
   "outputs": [
    {
     "name": "stdout",
     "output_type": "stream",
     "text": [
      "a\n",
      "d\n"
     ]
    }
   ],
   "source": [
    "def f():\n",
    "    try:\n",
    "        print(\"a\")\n",
    "        return\n",
    "    except:\n",
    "        print(\"b\")\n",
    "    else:\n",
    "        print(\"c\")\n",
    "    finally:\n",
    "        print(\"d\")\n",
    "\n",
    "f()"
   ]
  }
 ],
 "metadata": {
  "kernelspec": {
   "display_name": "Python 3",
   "language": "python",
   "name": "python3"
  },
  "language_info": {
   "codemirror_mode": {
    "name": "ipython",
    "version": 3
   },
   "file_extension": ".py",
   "mimetype": "text/x-python",
   "name": "python",
   "nbconvert_exporter": "python",
   "pygments_lexer": "ipython3",
   "version": "3.8.8"
  }
 },
 "nbformat": 4,
 "nbformat_minor": 5
}
